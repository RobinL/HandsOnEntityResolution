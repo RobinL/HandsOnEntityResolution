{
 "cells": [
  {
   "cell_type": "code",
   "execution_count": 1,
   "id": "9303a5bd",
   "metadata": {},
   "outputs": [],
   "source": [
    "import requests\n",
    "import json\n",
    "import zipfile\n",
    "import io\n",
    "import pandas as pd\n",
    "from bs4 import BeautifulSoup"
   ]
  },
  {
   "cell_type": "code",
   "execution_count": 2,
   "id": "1c8ac5ec",
   "metadata": {},
   "outputs": [],
   "source": [
    "url = \"http://download.companieshouse.gov.uk/en_pscdata.html\""
   ]
  },
  {
   "cell_type": "code",
   "execution_count": 3,
   "id": "46160f74",
   "metadata": {},
   "outputs": [
    {
     "name": "stdout",
     "output_type": "stream",
     "text": [
      "psc-snapshot-2022-10-09_1of22.txt\n",
      "psc-snapshot-2022-10-09_2of22.txt\n",
      "psc-snapshot-2022-10-09_3of22.txt\n",
      "psc-snapshot-2022-10-09_4of22.txt\n",
      "psc-snapshot-2022-10-09_5of22.txt\n",
      "psc-snapshot-2022-10-09_6of22.txt\n",
      "psc-snapshot-2022-10-09_7of22.txt\n",
      "psc-snapshot-2022-10-09_8of22.txt\n",
      "psc-snapshot-2022-10-09_9of22.txt\n",
      "psc-snapshot-2022-10-09_10of22.txt\n",
      "psc-snapshot-2022-10-09_11of22.txt\n",
      "psc-snapshot-2022-10-09_12of22.txt\n",
      "psc-snapshot-2022-10-09_13of22.txt\n",
      "psc-snapshot-2022-10-09_14of22.txt\n",
      "psc-snapshot-2022-10-09_15of22.txt\n",
      "psc-snapshot-2022-10-09_16of22.txt\n",
      "psc-snapshot-2022-10-09_17of22.txt\n",
      "psc-snapshot-2022-10-09_18of22.txt\n",
      "psc-snapshot-2022-10-09_19of22.txt\n",
      "psc-snapshot-2022-10-09_20of22.txt\n",
      "psc-snapshot-2022-10-09_21of22.txt\n"
     ]
    }
   ],
   "source": [
    "df_psctotal = pd.DataFrame()\n",
    "with requests.Session() as req:\n",
    "        r = req.get(url)\n",
    "        soup = BeautifulSoup(r.content, 'html.parser')\n",
    "        snapshots = [f\"{url[:38]}{item['href']}\" for item in soup.select(\n",
    "            \"a[href*='psc-snapshot']\")]\n",
    "        for snapshot in snapshots:    \n",
    "            response = requests.get(snapshot).content     \n",
    "            zipsnapshot = zipfile.ZipFile(io.BytesIO(response))\n",
    "            if(zipsnapshot.namelist()[0][-10:] != \"22of22.txt\"):\n",
    "                tempfile = zipsnapshot.extract(zipsnapshot.namelist()[0])\n",
    "                print(zipsnapshot.namelist()[0])\n",
    "                df_psc = pd.json_normalize(pd.Series(open(tempfile, encoding=\"utf8\").readlines()).apply(json.loads))\n",
    "                df_psc = df_psc[['company_number','data.name','data.date_of_birth.month','data.date_of_birth.year']]  \n",
    "                df_psctotal = pd.concat([df_psctotal, df_psc], ignore_index=True)"
   ]
  },
  {
   "cell_type": "code",
   "execution_count": 4,
   "id": "c0765462",
   "metadata": {},
   "outputs": [],
   "source": [
    "df_psctotal.to_csv('psc_slim.csv')"
   ]
  },
  {
   "cell_type": "code",
   "execution_count": 27,
   "id": "616b2e2a",
   "metadata": {},
   "outputs": [],
   "source": [
    "url = \"https://www.gov.uk/government/publications/recruitment-and-placement-agencies-approved-by-the-mca\""
   ]
  },
  {
   "cell_type": "code",
   "execution_count": 28,
   "id": "ba0eb1c5",
   "metadata": {},
   "outputs": [],
   "source": [
    "with requests.Session() as req:\n",
    "    r = req.get(url)\n",
    "    soup = BeautifulSoup(r.content, 'html.parser')\n",
    "    targets = [f\"{item['href']}\" for item in soup.select(\n",
    "        \"a[href$='.csv']\")]\n",
    "    for target in targets:\n",
    "        r = req.get(target)\n",
    "        name = target.rsplit(\"/\", 1)[-1]\n",
    "        with open(name, 'wb') as f:\n",
    "            f.write(r.content)          "
   ]
  },
  {
   "cell_type": "code",
   "execution_count": 32,
   "id": "e182d0ed",
   "metadata": {},
   "outputs": [],
   "source": [
    "url = \"http://everypolitician.org/uk/commons/download.html\""
   ]
  },
  {
   "cell_type": "code",
   "execution_count": 37,
   "id": "70d7172d",
   "metadata": {},
   "outputs": [
    {
     "name": "stdout",
     "output_type": "stream",
     "text": [
      "['https://cdn.rawgit.com/everypolitician/everypolitician-data/f594edb3364d459ec5ee50f15b92261085a49bc5/data/UK/Commons/ep-popolo-v1.0.json']\n"
     ]
    }
   ],
   "source": [
    "with requests.Session() as req:\n",
    "    r = req.get(url)\n",
    "    soup = BeautifulSoup(r.content, 'html.parser')\n",
    "    targets = [f\"{item['href']}\" for item in soup.select(\n",
    "        \"a[href*='ep-popolo']\")]\n",
    "    print(targets)\n",
    "    for target in targets:\n",
    "        r = req.get(target)\n",
    "        name = target.rsplit(\"/\", 1)[-1]\n",
    "        with open(name, 'wb') as f:\n",
    "            f.write(r.content)   "
   ]
  },
  {
   "cell_type": "code",
   "execution_count": null,
   "id": "b18bdda8",
   "metadata": {},
   "outputs": [],
   "source": []
  }
 ],
 "metadata": {
  "kernelspec": {
   "display_name": "Python 3 (ipykernel)",
   "language": "python",
   "name": "python3"
  },
  "language_info": {
   "codemirror_mode": {
    "name": "ipython",
    "version": 3
   },
   "file_extension": ".py",
   "mimetype": "text/x-python",
   "name": "python",
   "nbconvert_exporter": "python",
   "pygments_lexer": "ipython3",
   "version": "3.7.4"
  }
 },
 "nbformat": 4,
 "nbformat_minor": 5
}
