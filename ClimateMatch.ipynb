{
 "cells": [
  {
   "cell_type": "markdown",
   "id": "2d5ff28f",
   "metadata": {},
   "source": [
    "### Climate Match matching entities to basic companies house records"
   ]
  },
  {
   "cell_type": "code",
   "execution_count": 28,
   "id": "df0470ce",
   "metadata": {},
   "outputs": [],
   "source": [
    "import tabula\n",
    "import pandas as pd\n",
    "import numpy as np"
   ]
  },
  {
   "cell_type": "code",
   "execution_count": 2,
   "id": "04ab9f60",
   "metadata": {},
   "outputs": [],
   "source": [
    "url = \"https://assets.publishing.service.gov.uk/government/uploads/system/uploads/attachment_data/file/310599/legal_entities.pdf\""
   ]
  },
  {
   "cell_type": "code",
   "execution_count": 3,
   "id": "b397322b",
   "metadata": {},
   "outputs": [],
   "source": [
    "# Read pdf and extract GB Companies\n",
    "\n",
    "df = tabula.read_pdf(url, pages='all', multiple_tables = False, encoding='cp1252')\n",
    "cldf = df[0][df[0]['COUNTRY']=='GB']"
   ]
  },
  {
   "cell_type": "code",
   "execution_count": 4,
   "id": "ef6ee841",
   "metadata": {},
   "outputs": [],
   "source": [
    "# Function to remove stopwards from companies\n",
    "\n",
    "def strip_stopwords(raw_name):    \n",
    "    company_stopwords = { 'LIMITED', 'LTD', 'SERVICES', 'COMPANY', 'GROUP', 'PROPERTIES', 'CONSULTING', \n",
    "        'HOLDINGS', 'UK', 'TRADING', 'LTD.' }\n",
    "    return(' '.join([raw_name_part for raw_name_part in raw_name.split() if raw_name_part not in company_stopwords]))"
   ]
  },
  {
   "cell_type": "code",
   "execution_count": 6,
   "id": "9cfb2488",
   "metadata": {},
   "outputs": [
    {
     "name": "stderr",
     "output_type": "stream",
     "text": [
      "C:\\Users\\mshea\\splink\\lib\\site-packages\\ipykernel_launcher.py:6: SettingWithCopyWarning: \n",
      "A value is trying to be set on a copy of a slice from a DataFrame.\n",
      "Try using .loc[row_indexer,col_indexer] = value instead\n",
      "\n",
      "See the caveats in the documentation: https://pandas.pydata.org/pandas-docs/stable/user_guide/indexing.html#returning-a-view-versus-a-copy\n",
      "  \n",
      "C:\\Users\\mshea\\splink\\lib\\site-packages\\ipykernel_launcher.py:7: SettingWithCopyWarning: \n",
      "A value is trying to be set on a copy of a slice from a DataFrame.\n",
      "Try using .loc[row_indexer,col_indexer] = value instead\n",
      "\n",
      "See the caveats in the documentation: https://pandas.pydata.org/pandas-docs/stable/user_guide/indexing.html#returning-a-view-versus-a-copy\n",
      "  import sys\n",
      "C:\\Users\\mshea\\splink\\lib\\site-packages\\ipykernel_launcher.py:8: SettingWithCopyWarning: \n",
      "A value is trying to be set on a copy of a slice from a DataFrame.\n",
      "Try using .loc[row_indexer,col_indexer] = value instead\n",
      "\n",
      "See the caveats in the documentation: https://pandas.pydata.org/pandas-docs/stable/user_guide/indexing.html#returning-a-view-versus-a-copy\n",
      "  \n",
      "C:\\Users\\mshea\\splink\\lib\\site-packages\\ipykernel_launcher.py:9: SettingWithCopyWarning: \n",
      "A value is trying to be set on a copy of a slice from a DataFrame.\n",
      "Try using .loc[row_indexer,col_indexer] = value instead\n",
      "\n",
      "See the caveats in the documentation: https://pandas.pydata.org/pandas-docs/stable/user_guide/indexing.html#returning-a-view-versus-a-copy\n",
      "  if __name__ == \"__main__\":\n",
      "C:\\Users\\mshea\\splink\\lib\\site-packages\\ipykernel_launcher.py:10: SettingWithCopyWarning: \n",
      "A value is trying to be set on a copy of a slice from a DataFrame.\n",
      "Try using .loc[row_indexer,col_indexer] = value instead\n",
      "\n",
      "See the caveats in the documentation: https://pandas.pydata.org/pandas-docs/stable/user_guide/indexing.html#returning-a-view-versus-a-copy\n",
      "  # Remove the CWD from sys.path while we load stuff.\n"
     ]
    }
   ],
   "source": [
    "# Rename columns and strip stopwords\n",
    "# Add unique id column Splink needs\n",
    "\n",
    "# ToFix: SettingWithCopy Warning\n",
    "\n",
    "cldf['Postcode'] = cldf['POSTCODE']\n",
    "cldf['Location'] = cldf['CITY'].str.upper()\n",
    "cldf['CompanyName'] = cldf['LEGAL ENTITY'].str.upper()\n",
    "cldf['CompanyName'] = cldf.apply(lambda row: strip_stopwords(row['CompanyName']), axis=1)\n",
    "cldf['unique_id'] = cldf.index"
   ]
  },
  {
   "cell_type": "code",
   "execution_count": 7,
   "id": "219b0f43",
   "metadata": {},
   "outputs": [
    {
     "data": {
      "text/plain": [
       "334"
      ]
     },
     "execution_count": 7,
     "metadata": {},
     "output_type": "execute_result"
    }
   ],
   "source": [
    "# Remove unwanted columns\n",
    "# Number of climate companies to match\n",
    "\n",
    "cldf = cldf[['Postcode','CompanyName','Location','unique_id']]\n",
    "len(cldf)"
   ]
  },
  {
   "cell_type": "code",
   "execution_count": 8,
   "id": "7cf3fd48",
   "metadata": {},
   "outputs": [],
   "source": [
    "# Read basic companies house data as prepared by Download Data notebook\n",
    "\n",
    "cdf = pd.read_csv('basic_slim.csv')\n",
    "cdf = cdf.rename(columns={\"RegAddress.PostCode\": \"Postcode\", 'RegAddress.PostTown': 'Location'})\n",
    "cdf['CompanyName'] = cdf.apply(lambda row: strip_stopwords(row['CompanyName']), axis=1)\n",
    "cdf['CompanyName'].replace('', np.nan, inplace=True)\n",
    "cdf['unique_id'] = cdf.index"
   ]
  },
  {
   "cell_type": "code",
   "execution_count": 9,
   "id": "d0022928",
   "metadata": {},
   "outputs": [],
   "source": [
    "# Remove unwanted columns\n",
    "\n",
    "cdf = cdf[['Postcode','CompanyName','Location','unique_id']]"
   ]
  },
  {
   "cell_type": "code",
   "execution_count": 10,
   "id": "1c94209c",
   "metadata": {},
   "outputs": [
    {
     "data": {
      "text/plain": [
       "56"
      ]
     },
     "execution_count": 10,
     "metadata": {},
     "output_type": "execute_result"
    }
   ],
   "source": [
    "# Number of exact matches\n",
    "\n",
    "exact = cldf.merge(cdf,left_on=['Postcode','CompanyName'], right_on=['Postcode','CompanyName'],\n",
    "          suffixes=('_left', '_right'))\n",
    "len(exact)"
   ]
  },
  {
   "cell_type": "code",
   "execution_count": 14,
   "id": "4b935aad",
   "metadata": {},
   "outputs": [],
   "source": [
    "import recordlinkage"
   ]
  },
  {
   "cell_type": "code",
   "execution_count": 15,
   "id": "26b4f81e",
   "metadata": {},
   "outputs": [
    {
     "data": {
      "text/plain": [
       "101605"
      ]
     },
     "execution_count": 15,
     "metadata": {},
     "output_type": "execute_result"
    }
   ],
   "source": [
    "indexer = recordlinkage.Index()\n",
    "indexer.block(\"Postcode\")\n",
    "candidate_links = indexer.index(cdf, cldf)\n",
    "len(candidate_links)"
   ]
  },
  {
   "cell_type": "code",
   "execution_count": 16,
   "id": "9490ae55",
   "metadata": {},
   "outputs": [
    {
     "data": {
      "text/plain": [
       "659"
      ]
     },
     "execution_count": 16,
     "metadata": {},
     "output_type": "execute_result"
    }
   ],
   "source": [
    "compare_cl = recordlinkage.Compare()\n",
    "compare_cl.string(\"CompanyName\", \"CompanyName\", method='jarowinkler',threshold=0.85)\n",
    "compare_cl.exact(\"Postcode\",\"Postcode\")\n",
    "features = compare_cl.compute(candidate_links, cdf, cldf)\n",
    "\n",
    "# Name exact or approx match and postcode matches\n",
    "matches = features[(features[0]==1) & (features[1]==1)]\n",
    "len(matches)"
   ]
  },
  {
   "cell_type": "code",
   "execution_count": 17,
   "id": "d38b74e1",
   "metadata": {},
   "outputs": [
    {
     "data": {
      "text/plain": [
       "603"
      ]
     },
     "execution_count": 17,
     "metadata": {},
     "output_type": "execute_result"
    }
   ],
   "source": [
    "# Set index names to allow join \n",
    "matches.index.names = ['cdf','cldf']\n",
    "cdf.index.names= ['cdf']\n",
    "cldf.index.names= ['cldf']\n",
    "\n",
    "# Lookup both names\n",
    "matches = matches.join(cdf, how='inner')\n",
    "matches = matches.join(cldf, how='inner', rsuffix='_cldf')\n",
    "\n",
    "# Select those with only approx match not exact match\n",
    "approx = matches[matches['CompanyName']!=matches['CompanyName_cldf']]\n",
    "len(approx)"
   ]
  },
  {
   "cell_type": "code",
   "execution_count": 19,
   "id": "8366334a",
   "metadata": {},
   "outputs": [
    {
     "data": {
      "text/plain": [
       "89"
      ]
     },
     "execution_count": 19,
     "metadata": {},
     "output_type": "execute_result"
    }
   ],
   "source": [
    "# List of those companies matched at least once\n",
    "found = matches.index.unique(level='cldf')\n",
    "len(found)"
   ]
  },
  {
   "cell_type": "code",
   "execution_count": 20,
   "id": "aed9d056",
   "metadata": {},
   "outputs": [
    {
     "data": {
      "text/plain": [
       "245"
      ]
     },
     "execution_count": 20,
     "metadata": {},
     "output_type": "execute_result"
    }
   ],
   "source": [
    "# Select those companies not found \n",
    "notfound = cldf.loc[(cldf.index.isin(found, level='cldf') == False)]\n",
    "len(notfound)"
   ]
  },
  {
   "cell_type": "code",
   "execution_count": 21,
   "id": "3c963a44",
   "metadata": {},
   "outputs": [],
   "source": [
    "import splink"
   ]
  },
  {
   "cell_type": "code",
   "execution_count": 22,
   "id": "c97c5abe",
   "metadata": {},
   "outputs": [],
   "source": [
    "from splink.duckdb.duckdb_linker import DuckDBLinker\n",
    "from splink.duckdb import duckdb_comparison_library as cl\n",
    "settings = {\n",
    "    \"link_type\": \"link_only\",\n",
    "    \"blocking_rules_to_generate_predictions\": [\n",
    "        \"l.Postcode = r.Postcode\",\n",
    "    ],\n",
    "    \"comparisons\": [\n",
    "        cl.jaro_winkler_at_thresholds(\"CompanyName\",distance_threshold_or_thresholds=[0.9]),\n",
    "    ],    \n",
    "    \"retain_intermediate_calculation_columns\" : True,\n",
    "    \"retain_matching_columns\" : True\n",
    "}"
   ]
  },
  {
   "cell_type": "code",
   "execution_count": 23,
   "id": "0263d41f",
   "metadata": {},
   "outputs": [
    {
     "name": "stderr",
     "output_type": "stream",
     "text": [
      "----- Estimating u probabilities using random sampling -----\n",
      "u probability not trained for CompanyName - Exact match (comparison vector value: 2). This usually means the comparison level was never observed in the training data.\n",
      "u probability not trained for CompanyName - jaro_winkler_similarity >= 0.9 (comparison vector value: 1). This usually means the comparison level was never observed in the training data.\n",
      "\n",
      "Estimated u probabilities using random sampling\n",
      "\n",
      "Your model is not yet fully trained. Missing estimates for:\n",
      "    - CompanyName (some u values are not trained, no m values are trained).\n"
     ]
    }
   ],
   "source": [
    "linker = DuckDBLinker([cldf, cdf], settings, input_table_aliases=[\"cldf\", \"cdf\"])\n",
    "linker.estimate_u_using_random_sampling(target_rows=1e6)"
   ]
  },
  {
   "cell_type": "code",
   "execution_count": 24,
   "id": "1e3cdd38",
   "metadata": {},
   "outputs": [
    {
     "name": "stderr",
     "output_type": "stream",
     "text": [
      "\n",
      "----- Starting EM training session -----\n",
      "\n",
      "Estimating the m probabilities of the model by blocking on:\n",
      "l.Postcode = r.Postcode\n",
      "\n",
      "Parameter estimates will be made for the following comparison(s):\n",
      "    - CompanyName\n",
      "\n",
      "Parameter estimates cannot be made for the following comparison(s) since they are used in the blocking rules: \n",
      "\n",
      "Iteration 1: Largest change in params was -0.0266 in the m_probability of CompanyName, level `Exact match`\n",
      "Iteration 2: Largest change in params was -0.0376 in the m_probability of CompanyName, level `Exact match`\n",
      "Iteration 3: Largest change in params was -0.0534 in the m_probability of CompanyName, level `Exact match`\n",
      "Iteration 4: Largest change in params was -0.0735 in the m_probability of CompanyName, level `Exact match`\n",
      "Iteration 5: Largest change in params was -0.0955 in the m_probability of CompanyName, level `Exact match`\n",
      "Iteration 6: Largest change in params was 0.115 in the m_probability of CompanyName, level `All other comparisons`\n",
      "Iteration 7: Largest change in params was 0.125 in the m_probability of CompanyName, level `All other comparisons`\n",
      "Iteration 8: Largest change in params was 0.121 in the m_probability of CompanyName, level `All other comparisons`\n",
      "Iteration 9: Largest change in params was 0.104 in the m_probability of CompanyName, level `All other comparisons`\n",
      "Iteration 10: Largest change in params was 0.0807 in the m_probability of CompanyName, level `All other comparisons`\n",
      "Iteration 11: Largest change in params was 0.0579 in the m_probability of CompanyName, level `All other comparisons`\n",
      "Iteration 12: Largest change in params was 0.0393 in the m_probability of CompanyName, level `All other comparisons`\n",
      "Iteration 13: Largest change in params was 0.0257 in the m_probability of CompanyName, level `All other comparisons`\n",
      "Iteration 14: Largest change in params was 0.0164 in the m_probability of CompanyName, level `All other comparisons`\n",
      "Iteration 15: Largest change in params was 0.0104 in the m_probability of CompanyName, level `All other comparisons`\n",
      "Iteration 16: Largest change in params was 0.00653 in the m_probability of CompanyName, level `All other comparisons`\n",
      "Iteration 17: Largest change in params was 0.00409 in the m_probability of CompanyName, level `All other comparisons`\n",
      "Iteration 18: Largest change in params was 0.00257 in the m_probability of CompanyName, level `All other comparisons`\n",
      "Iteration 19: Largest change in params was 0.00162 in the m_probability of CompanyName, level `All other comparisons`\n",
      "Iteration 20: Largest change in params was 0.00103 in the m_probability of CompanyName, level `All other comparisons`\n",
      "Iteration 21: Largest change in params was 0.000653 in the m_probability of CompanyName, level `All other comparisons`\n",
      "Iteration 22: Largest change in params was 0.000418 in the m_probability of CompanyName, level `All other comparisons`\n",
      "Iteration 23: Largest change in params was 0.00027 in the m_probability of CompanyName, level `All other comparisons`\n",
      "Iteration 24: Largest change in params was 0.000175 in the m_probability of CompanyName, level `All other comparisons`\n",
      "Iteration 25: Largest change in params was 0.000114 in the m_probability of CompanyName, level `All other comparisons`\n",
      "\n",
      "EM converged after 25 iterations\n",
      "\n",
      "Your model is not yet fully trained. Missing estimates for:\n",
      "    - CompanyName (some u values are not trained).\n"
     ]
    },
    {
     "data": {
      "text/plain": [
       "<EMTrainingSession, blocking on l.Postcode = r.Postcode, deactivating comparisons >"
      ]
     },
     "execution_count": 24,
     "metadata": {},
     "output_type": "execute_result"
    }
   ],
   "source": [
    "linker.estimate_parameters_using_expectation_maximisation(\"l.Postcode = r.Postcode\")"
   ]
  },
  {
   "cell_type": "code",
   "execution_count": 29,
   "id": "2530870a",
   "metadata": {},
   "outputs": [
    {
     "name": "stderr",
     "output_type": "stream",
     "text": [
      "\n",
      " -- WARNING --\n",
      "You have called predict(), but there are some parameter estimates which have neither been estimated or specified in your settings dictionary.  To produce predictions the following untrained trained parameters will use default values.\n",
      "Comparison: 'CompanyName':\n",
      "    u values not fully trained\n"
     ]
    }
   ],
   "source": [
    "results = linker.predict()"
   ]
  },
  {
   "cell_type": "code",
   "execution_count": 30,
   "id": "f1b39122",
   "metadata": {},
   "outputs": [
    {
     "data": {
      "text/html": [
       "\n",
       "<div id=\"altair-viz-dedf19fcd1424b01bd24c33f072629b6\"></div>\n",
       "<script type=\"text/javascript\">\n",
       "  var VEGA_DEBUG = (typeof VEGA_DEBUG == \"undefined\") ? {} : VEGA_DEBUG;\n",
       "  (function(spec, embedOpt){\n",
       "    let outputDiv = document.currentScript.previousElementSibling;\n",
       "    if (outputDiv.id !== \"altair-viz-dedf19fcd1424b01bd24c33f072629b6\") {\n",
       "      outputDiv = document.getElementById(\"altair-viz-dedf19fcd1424b01bd24c33f072629b6\");\n",
       "    }\n",
       "    const paths = {\n",
       "      \"vega\": \"https://cdn.jsdelivr.net/npm//vega@5?noext\",\n",
       "      \"vega-lib\": \"https://cdn.jsdelivr.net/npm//vega-lib?noext\",\n",
       "      \"vega-lite\": \"https://cdn.jsdelivr.net/npm//vega-lite@4.17.0?noext\",\n",
       "      \"vega-embed\": \"https://cdn.jsdelivr.net/npm//vega-embed@6?noext\",\n",
       "    };\n",
       "\n",
       "    function maybeLoadScript(lib, version) {\n",
       "      var key = `${lib.replace(\"-\", \"\")}_version`;\n",
       "      return (VEGA_DEBUG[key] == version) ?\n",
       "        Promise.resolve(paths[lib]) :\n",
       "        new Promise(function(resolve, reject) {\n",
       "          var s = document.createElement('script');\n",
       "          document.getElementsByTagName(\"head\")[0].appendChild(s);\n",
       "          s.async = true;\n",
       "          s.onload = () => {\n",
       "            VEGA_DEBUG[key] = version;\n",
       "            return resolve(paths[lib]);\n",
       "          };\n",
       "          s.onerror = () => reject(`Error loading script: ${paths[lib]}`);\n",
       "          s.src = paths[lib];\n",
       "        });\n",
       "    }\n",
       "\n",
       "    function showError(err) {\n",
       "      outputDiv.innerHTML = `<div class=\"error\" style=\"color:red;\">${err}</div>`;\n",
       "      throw err;\n",
       "    }\n",
       "\n",
       "    function displayChart(vegaEmbed) {\n",
       "      vegaEmbed(outputDiv, spec, embedOpt)\n",
       "        .catch(err => showError(`Javascript Error: ${err.message}<br>This usually means there's a typo in your chart specification. See the javascript console for the full traceback.`));\n",
       "    }\n",
       "\n",
       "    if(typeof define === \"function\" && define.amd) {\n",
       "      requirejs.config({paths});\n",
       "      require([\"vega-embed\"], displayChart, err => showError(`Error loading script: ${err.message}`));\n",
       "    } else {\n",
       "      maybeLoadScript(\"vega\", \"5\")\n",
       "        .then(() => maybeLoadScript(\"vega-lite\", \"4.17.0\"))\n",
       "        .then(() => maybeLoadScript(\"vega-embed\", \"6\"))\n",
       "        .catch(showError)\n",
       "        .then(() => displayChart(vegaEmbed));\n",
       "    }\n",
       "  })({\"$schema\": \"https://vega.github.io/schema/vega-lite/v5.2.0.json\", \"height\": 450, \"resolve\": {\"axis\": {\"y\": \"independent\"}}, \"width\": {\"step\": 75}, \"data\": {\"values\": [{\"column_name\": \"Prior\", \"label_for_charts\": \"Starting match weight (prior)\", \"sql_condition\": null, \"log2_bayes_factor\": -13.287568102831404, \"bayes_factor\": 0.00010001000100010001, \"comparison_vector_value\": null, \"m_probability\": null, \"u_probability\": null, \"bayes_factor_description\": null, \"value_l\": \"\", \"value_r\": \"\", \"term_frequency_adjustment\": null, \"bar_sort_order\": 0, \"record_number\": 0}, {\"column_name\": \"CompanyName\", \"label_for_charts\": \"jaro_winkler_similarity >= 0.9\", \"sql_condition\": \"jaro_winkler_similarity(\\\"CompanyName_l\\\", \\\"CompanyName_r\\\") >= 0.9\", \"log2_bayes_factor\": -4.326184787784182, \"bayes_factor\": 0.04985269169053424, \"comparison_vector_value\": 1, \"m_probability\": 0.00015578966153291963, \"u_probability\": 0.0031250000000000028, \"bayes_factor_description\": \"If comparison level is `jaro_winkler_similarity >= 0.9` then comparison is  20.06 times less likely to be a match\", \"value_l\": \"T&L SUGARS\", \"value_r\": \"T & L SUGARS\", \"term_frequency_adjustment\": false, \"bar_sort_order\": 1, \"record_number\": 0}, {\"column_name\": \"Final score\", \"label_for_charts\": \"Final score\", \"sql_condition\": null, \"log2_bayes_factor\": -17.613752890615586, \"bayes_factor\": 4.985767745828008e-06, \"comparison_vector_value\": null, \"m_probability\": null, \"u_probability\": null, \"bayes_factor_description\": null, \"value_l\": \"\", \"value_r\": \"\", \"term_frequency_adjustment\": null, \"bar_sort_order\": 2, \"record_number\": 0}]}, \"config\": {\"view\": {\"continuousWidth\": 400, \"continuousHeight\": 300}}, \"params\": [{\"name\": \"record_number\", \"value\": 0, \"bind\": {\"input\": \"range\", \"min\": 0, \"max\": 0, \"step\": 1}, \"description\": \"Filter by the interation number\"}], \"title\": {\"text\": \"Match weights waterfall chart\", \"subtitle\": \"How each comparison contributes to the final match score\"}, \"transform\": [{\"filter\": \"(datum.record_number == record_number)\"}, {\"window\": [{\"op\": \"sum\", \"field\": \"log2_bayes_factor\", \"as\": \"sum\"}, {\"op\": \"lead\", \"field\": \"column_name\", \"as\": \"lead\"}], \"frame\": [null, 0]}, {\"calculate\": \"datum.column_name === \\\"Final score\\\" ? datum.sum - datum.log2_bayes_factor : datum.sum\", \"as\": \"sum\"}, {\"calculate\": \"datum.lead === null ? datum.column_name : datum.lead\", \"as\": \"lead\"}, {\"calculate\": \"datum.column_name === \\\"Final score\\\" || datum.column_name === \\\"Prior match weight\\\" ? 0 : datum.sum - datum.log2_bayes_factor\", \"as\": \"previous_sum\"}, {\"calculate\": \"datum.sum > datum.previous_sum ? datum.column_name : \\\"\\\"\", \"as\": \"top_label\"}, {\"calculate\": \"datum.sum < datum.previous_sum ? datum.column_name : \\\"\\\"\", \"as\": \"bottom_label\"}, {\"calculate\": \"datum.sum > datum.previous_sum ? datum.sum : datum.previous_sum\", \"as\": \"sum_top\"}, {\"calculate\": \"datum.sum < datum.previous_sum ? datum.sum : datum.previous_sum\", \"as\": \"sum_bottom\"}, {\"calculate\": \"(datum.sum + datum.previous_sum) / 2\", \"as\": \"center\"}, {\"calculate\": \"(datum.log2_bayes_factor > 0 ? \\\"+\\\" : \\\"\\\") + datum.log2_bayes_factor\", \"as\": \"text_log2_bayes_factor\"}, {\"calculate\": \"datum.sum < datum.previous_sum ? 4 : -4\", \"as\": \"dy\"}, {\"calculate\": \"datum.sum < datum.previous_sum ? \\\"top\\\" : \\\"bottom\\\"\", \"as\": \"baseline\"}, {\"calculate\": \"1. / (1 + pow(2, -1.*datum.sum))\", \"as\": \"prob\"}, {\"calculate\": \"0*datum.sum\", \"as\": \"zero\"}], \"layer\": [{\"layer\": [{\"mark\": \"rule\", \"encoding\": {\"y\": {\"field\": \"zero\", \"type\": \"quantitative\"}, \"size\": {\"value\": 0.5}, \"color\": {\"value\": \"black\"}}}, {\"mark\": {\"type\": \"bar\", \"width\": 60}, \"encoding\": {\"color\": {\"condition\": {\"value\": \"red\", \"test\": \"(datum.log2_bayes_factor < 0)\"}, \"value\": \"green\"}, \"opacity\": {\"condition\": {\"value\": 1, \"test\": \"datum.column_name == 'Prior match weight' || datum.column_name == 'Final score'\"}, \"value\": 0.5}, \"tooltip\": [{\"type\": \"nominal\", \"field\": \"column_name\", \"title\": \"Comparison column\"}, {\"type\": \"nominal\", \"field\": \"value_l\", \"title\": \"Value (L)\"}, {\"type\": \"nominal\", \"field\": \"value_r\", \"title\": \"Value (R)\"}, {\"type\": \"ordinal\", \"field\": \"label_for_charts\", \"title\": \"Label\"}, {\"type\": \"nominal\", \"field\": \"sql_condition\", \"title\": \"SQL condition\"}, {\"type\": \"nominal\", \"field\": \"comparison_vector_value\", \"title\": \"Comparison vector value\"}, {\"type\": \"quantitative\", \"field\": \"bayes_factor\", \"title\": \"Bayes factor = m/u\", \"format\": \",.4f\"}, {\"type\": \"quantitative\", \"field\": \"log2_bayes_factor\", \"title\": \"Match weight = log2(m/u)\", \"format\": \",.4f\"}, {\"type\": \"quantitative\", \"field\": \"prob\", \"format\": \".4f\", \"title\": \"Adjusted match score\"}, {\"type\": \"nominal\", \"field\": \"bayes_factor_description\", \"title\": \"Match weight description\"}], \"x\": {\"type\": \"nominal\", \"axis\": {\"labelExpr\": \"datum.value == 'Prior' || datum.value == 'Final score' ? '' : datum.value\", \"labelAngle\": -20, \"labelAlign\": \"center\", \"labelPadding\": 10, \"title\": \"Column\", \"grid\": true, \"tickBand\": \"extent\"}, \"field\": \"column_name\", \"sort\": {\"field\": \"bar_sort_order\", \"order\": \"ascending\"}}, \"y\": {\"type\": \"quantitative\", \"axis\": {\"grid\": false, \"orient\": \"left\", \"title\": \"log2(Bayes factor)\"}, \"field\": \"previous_sum\"}, \"y2\": {\"field\": \"sum\"}}}, {\"mark\": {\"type\": \"text\", \"fontWeight\": \"bold\"}, \"encoding\": {\"color\": {\"value\": \"white\"}, \"text\": {\"condition\": {\"type\": \"nominal\", \"field\": \"log2_bayes_factor\", \"format\": \".2f\", \"test\": \"abs(datum.log2_bayes_factor) > 1\"}, \"value\": \"\"}, \"x\": {\"type\": \"nominal\", \"axis\": {\"labelAngle\": 0, \"title\": \"Column\"}, \"field\": \"column_name\", \"sort\": {\"field\": \"bar_sort_order\", \"order\": \"ascending\"}}, \"y\": {\"type\": \"quantitative\", \"axis\": {\"orient\": \"left\"}, \"field\": \"center\"}}}, {\"mark\": {\"type\": \"text\", \"baseline\": \"bottom\", \"dy\": -25, \"fontWeight\": \"bold\"}, \"encoding\": {\"color\": {\"value\": \"black\"}, \"text\": {\"type\": \"nominal\", \"field\": \"column_name\"}, \"x\": {\"type\": \"nominal\", \"axis\": {\"labelAngle\": 0, \"title\": \"Column\"}, \"field\": \"column_name\", \"sort\": {\"field\": \"bar_sort_order\", \"order\": \"ascending\"}}, \"y\": {\"type\": \"quantitative\", \"field\": \"sum_top\"}}}, {\"mark\": {\"type\": \"text\", \"baseline\": \"bottom\", \"fontSize\": 8, \"dy\": -13}, \"encoding\": {\"color\": {\"value\": \"grey\"}, \"text\": {\"type\": \"nominal\", \"field\": \"value_l\"}, \"x\": {\"type\": \"nominal\", \"axis\": {\"labelAngle\": 0, \"title\": \"Column\"}, \"field\": \"column_name\", \"sort\": {\"field\": \"bar_sort_order\", \"order\": \"ascending\"}}, \"y\": {\"type\": \"quantitative\", \"field\": \"sum_top\"}}}, {\"mark\": {\"type\": \"text\", \"baseline\": \"bottom\", \"fontSize\": 8, \"dy\": -5}, \"encoding\": {\"color\": {\"value\": \"grey\"}, \"text\": {\"type\": \"nominal\", \"field\": \"value_r\"}, \"x\": {\"type\": \"nominal\", \"axis\": {\"labelAngle\": 0, \"title\": \"Column\"}, \"field\": \"column_name\", \"sort\": {\"field\": \"bar_sort_order\", \"order\": \"ascending\"}}, \"y\": {\"type\": \"quantitative\", \"field\": \"sum_top\"}}}]}, {\"mark\": {\"type\": \"rule\", \"color\": \"black\", \"strokeWidth\": 2, \"x2Offset\": 30, \"xOffset\": -30}, \"encoding\": {\"x\": {\"type\": \"nominal\", \"axis\": {\"labelAngle\": 0, \"title\": \"Column\"}, \"field\": \"column_name\", \"sort\": {\"field\": \"bar_sort_order\", \"order\": \"ascending\"}}, \"x2\": {\"field\": \"lead\"}, \"y\": {\"type\": \"quantitative\", \"axis\": {\"labelExpr\": \"format(1 / (1 + pow(2, -1*datum.value)), '.2r')\", \"orient\": \"right\", \"title\": \"Probability\"}, \"field\": \"sum\", \"scale\": {\"zero\": false}}}}]}, {\"mode\": \"vega-lite\"});\n",
       "</script>"
      ],
      "text/plain": [
       "<splink.charts.VegaliteNoValidate at 0x1acc0686708>"
      ]
     },
     "execution_count": 30,
     "metadata": {},
     "output_type": "execute_result"
    }
   ],
   "source": [
    "resultsdf = results.as_pandas_dataframe()\n",
    "bespoke = resultsdf[resultsdf['CompanyName_l']=='T&L SUGARS']\n",
    "linker.waterfall_chart(bespoke.to_dict(orient='records'), filter_nulls=False)"
   ]
  },
  {
   "cell_type": "code",
   "execution_count": 31,
   "id": "051bc3ad",
   "metadata": {},
   "outputs": [
    {
     "name": "stderr",
     "output_type": "stream",
     "text": [
      "\n",
      " -- WARNING --\n",
      "You have called predict(), but there are some parameter estimates which have neither been estimated or specified in your settings dictionary.  To produce predictions the following untrained trained parameters will use default values.\n",
      "Comparison: 'CompanyName':\n",
      "    u values not fully trained\n"
     ]
    },
    {
     "data": {
      "text/plain": [
       "0"
      ]
     },
     "execution_count": 31,
     "metadata": {},
     "output_type": "execute_result"
    }
   ],
   "source": [
    "df_splink = linker.predict(threshold_match_probability = 0.001).as_pandas_dataframe()\n",
    "len(df_splink)"
   ]
  },
  {
   "cell_type": "code",
   "execution_count": null,
   "id": "1cbd4e32",
   "metadata": {},
   "outputs": [],
   "source": []
  }
 ],
 "metadata": {
  "kernelspec": {
   "display_name": "Python 3 (ipykernel)",
   "language": "python",
   "name": "python3"
  },
  "language_info": {
   "codemirror_mode": {
    "name": "ipython",
    "version": 3
   },
   "file_extension": ".py",
   "mimetype": "text/x-python",
   "name": "python",
   "nbconvert_exporter": "python",
   "pygments_lexer": "ipython3",
   "version": "3.7.4"
  }
 },
 "nbformat": 4,
 "nbformat_minor": 5
}
