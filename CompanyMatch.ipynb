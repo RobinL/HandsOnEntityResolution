{
 "cells": [
  {
   "cell_type": "markdown",
   "id": "11230fb2",
   "metadata": {},
   "source": [
    "### Matching Maritime & Coastguard Agency recruitment & placement agencies to companies house data"
   ]
  },
  {
   "cell_type": "code",
   "execution_count": 1,
   "id": "f61862ce",
   "metadata": {},
   "outputs": [],
   "source": [
    "import requests\n",
    "import io\n",
    "import pandas as pd\n",
    "import numpy as np\n",
    "import probablepeople as pp\n",
    "from bs4 import BeautifulSoup"
   ]
  },
  {
   "cell_type": "code",
   "execution_count": 2,
   "id": "f21e044f",
   "metadata": {},
   "outputs": [],
   "source": [
    "# Function to strip stopwords from company names\n",
    "\n",
    "def strip_stopwords(raw_name):    \n",
    "    company_stopwords = { 'LIMITED', 'LTD', 'SERVICES', 'COMPANY', 'GROUP', 'PROPERTIES', 'CONSULTING', \n",
    "        'HOLDINGS', 'UK', 'TRADING', 'LTD.' }\n",
    "    return(' '.join([raw_name_part for raw_name_part in raw_name.split() if raw_name_part not in company_stopwords]))\n",
    "\n",
    "# Function to extract postcode as last 2 substrings in address\n",
    "# To Fix: Not perfect if postcode not last entry in address\n",
    "\n",
    "def extract_postcode(address):\n",
    "    return ' '.join(address.split()[-2:])"
   ]
  },
  {
   "cell_type": "code",
   "execution_count": 3,
   "id": "ff1814fb",
   "metadata": {},
   "outputs": [],
   "source": [
    "# Maritime and Coastguard Agency - List of approved recruitment and placement agencies\n",
    "\n",
    "url = \"https://www.gov.uk/government/publications/recruitment-and-placement-agencies-approved-by-the-mca\""
   ]
  },
  {
   "cell_type": "code",
   "execution_count": 4,
   "id": "3f19bb7b",
   "metadata": {},
   "outputs": [],
   "source": [
    "# Download the csv file, extract name and drop erroroneous last row with all nulls\n",
    "\n",
    "with requests.Session() as req:\n",
    "    r = req.get(url)\n",
    "    soup = BeautifulSoup(r.content, 'html.parser')\n",
    "    targets = [f\"{item['href']}\" for item in soup.select(\n",
    "        \"a[href$='.csv']\")]\n",
    "    for target in targets:\n",
    "        response = req.get(target)    \n",
    "        mdf = pd.read_csv(io.BytesIO(response.content))\n",
    "        mdf = mdf.dropna(how='all')"
   ]
  },
  {
   "cell_type": "code",
   "execution_count": 5,
   "id": "9e3442f8",
   "metadata": {},
   "outputs": [],
   "source": [
    "# Extract Postcode and Cleanse Name Column of Stopwords\n",
    "# Create unique index column needed by Splink from datafram index\n",
    "\n",
    "mdf['ADDRESS & CONTACT DETAILS']=mdf['ADDRESS & CONTACT DETAILS'].astype('string')\n",
    "mdf['Postcode'] = mdf.apply(lambda row: extract_postcode(row['ADDRESS & CONTACT DETAILS']), axis=1)\n",
    "mdf['Location'] = mdf['LOCATION'].str.upper()\n",
    "mdf['CompanyName'] = mdf['COMPANY'].str.upper()\n",
    "mdf['CompanyName'].replace('', np.nan, inplace=True)\n",
    "mdf['CompanyName'] = mdf['CompanyName'].astype(str)\n",
    "mdf['CompanyName'] = mdf.apply(lambda row: strip_stopwords(row['CompanyName']), axis=1)\n",
    "mdf['unique_id'] = mdf.index"
   ]
  },
  {
   "cell_type": "code",
   "execution_count": 6,
   "id": "c919de76",
   "metadata": {},
   "outputs": [
    {
     "data": {
      "text/plain": [
       "103"
      ]
     },
     "execution_count": 6,
     "metadata": {},
     "output_type": "execute_result"
    }
   ],
   "source": [
    "# Subset down to required columns\n",
    "# Number of agencies to match\n",
    "\n",
    "mdf = mdf[['Postcode','CompanyName','Location','unique_id']]\n",
    "len(mdf)"
   ]
  },
  {
   "cell_type": "code",
   "execution_count": 7,
   "id": "a726304a",
   "metadata": {},
   "outputs": [],
   "source": [
    "# Read basic company details\n",
    "\n",
    "cdf = pd.read_csv('basic_slim.csv')\n",
    "cdf = cdf.rename(columns={\"RegAddress.PostCode\": \"Postcode\", 'RegAddress.PostTown': 'Location'})\n",
    "cdf['CompanyName'] = cdf.apply(lambda row: strip_stopwords(row['CompanyName']), axis=1)\n",
    "cdf['CompanyName'].replace('', np.nan, inplace=True)\n",
    "cdf['unique_id'] = cdf.index"
   ]
  },
  {
   "cell_type": "code",
   "execution_count": 8,
   "id": "620d65e2",
   "metadata": {},
   "outputs": [
    {
     "data": {
      "text/plain": [
       "5184795"
      ]
     },
     "execution_count": 8,
     "metadata": {},
     "output_type": "execute_result"
    }
   ],
   "source": [
    "# Subset down to required columns\n",
    "# Number of companies to match against\n",
    "\n",
    "cdf = cdf[['Postcode','CompanyName','Location','unique_id']]\n",
    "len(cdf)"
   ]
  },
  {
   "cell_type": "code",
   "execution_count": 9,
   "id": "deca2dde",
   "metadata": {},
   "outputs": [
    {
     "data": {
      "text/plain": [
       "50"
      ]
     },
     "execution_count": 9,
     "metadata": {},
     "output_type": "execute_result"
    }
   ],
   "source": [
    "# Number of exact matches\n",
    "\n",
    "exact = mdf.merge(cdf,left_on=['Postcode','CompanyName'], right_on=['Postcode','CompanyName'],\n",
    "          suffixes=('_left', '_right'))\n",
    "len(exact)"
   ]
  },
  {
   "cell_type": "code",
   "execution_count": 11,
   "id": "4d3d4b2f",
   "metadata": {},
   "outputs": [],
   "source": [
    "import recordlinkage"
   ]
  },
  {
   "cell_type": "code",
   "execution_count": 12,
   "id": "6f475bba",
   "metadata": {},
   "outputs": [
    {
     "data": {
      "text/plain": [
       "150220"
      ]
     },
     "execution_count": 12,
     "metadata": {},
     "output_type": "execute_result"
    }
   ],
   "source": [
    "# Block on postcode\n",
    "# Number of possible links\n",
    "\n",
    "indexer = recordlinkage.Index()\n",
    "indexer.block(\"Postcode\")\n",
    "candidate_links = indexer.index(cdf, mdf)\n",
    "len(candidate_links)"
   ]
  },
  {
   "cell_type": "code",
   "execution_count": 13,
   "id": "0d17727e",
   "metadata": {},
   "outputs": [
    {
     "data": {
      "text/plain": [
       "121"
      ]
     },
     "execution_count": 13,
     "metadata": {},
     "output_type": "execute_result"
    }
   ],
   "source": [
    "# Number of matches on postcode and name\n",
    "\n",
    "compare_cl = recordlinkage.Compare()\n",
    "compare_cl.string(\"CompanyName\", \"CompanyName\", method='jarowinkler',threshold=0.85)\n",
    "compare_cl.exact(\"Postcode\",\"Postcode\")\n",
    "features = compare_cl.compute(candidate_links, cdf, mdf)\n",
    "\n",
    "# Name exact or approx match and postcode matches\n",
    "matches = features[(features[0]==1) & (features[1]==1)]\n",
    "len(matches)"
   ]
  },
  {
   "cell_type": "code",
   "execution_count": 14,
   "id": "36207b90",
   "metadata": {},
   "outputs": [
    {
     "data": {
      "text/plain": [
       "71"
      ]
     },
     "execution_count": 14,
     "metadata": {},
     "output_type": "execute_result"
    }
   ],
   "source": [
    "# Rename indexes to allow join\n",
    "\n",
    "matches.index.names = ['cdf','mdf']\n",
    "cdf.index.names= ['cdf']\n",
    "mdf.index.names= ['mdf']\n",
    "\n",
    "# Lookup both names\n",
    "matches = matches.join(cdf, how='inner')\n",
    "matches = matches.join(mdf, how='inner', rsuffix='_mdf')\n",
    "\n",
    "# Select those with only approx match not exact match\n",
    "approx = matches[matches['CompanyName']!=matches['CompanyName_mdf']]\n",
    "len(approx)"
   ]
  },
  {
   "cell_type": "code",
   "execution_count": 16,
   "id": "c6219e3f",
   "metadata": {},
   "outputs": [
    {
     "data": {
      "text/plain": [
       "59"
      ]
     },
     "execution_count": 16,
     "metadata": {},
     "output_type": "execute_result"
    }
   ],
   "source": [
    "# List of those companies matched at least once\n",
    "found = matches.index.unique(level='mdf')\n",
    "len(found)"
   ]
  },
  {
   "cell_type": "code",
   "execution_count": 17,
   "id": "51729e3a",
   "metadata": {},
   "outputs": [
    {
     "data": {
      "text/plain": [
       "44"
      ]
     },
     "execution_count": 17,
     "metadata": {},
     "output_type": "execute_result"
    }
   ],
   "source": [
    "# Select those companies not found \n",
    "notfound = mdf.loc[(mdf.index.isin(found, level='mdf') == False)]\n",
    "len(notfound)"
   ]
  },
  {
   "cell_type": "code",
   "execution_count": 19,
   "id": "ec581802",
   "metadata": {},
   "outputs": [
    {
     "data": {
      "text/plain": [
       "150099"
      ]
     },
     "execution_count": 19,
     "metadata": {},
     "output_type": "execute_result"
    }
   ],
   "source": [
    "# Postcode matches but name doesn't\n",
    "postmatches = features[(features[0]!=1) & (features[1]==1)]\n",
    "postmatches.index.names = ['cdf','mdf']\n",
    "\n",
    "postmatches = postmatches.join(cdf, how='outer')\n",
    "postmatches = postmatches.join(mdf, how='inner', rsuffix='_mdf')\n",
    "len(postmatches)"
   ]
  },
  {
   "cell_type": "code",
   "execution_count": 19,
   "id": "3de789c0",
   "metadata": {},
   "outputs": [],
   "source": [
    "import splink"
   ]
  },
  {
   "cell_type": "code",
   "execution_count": 20,
   "id": "89f77123",
   "metadata": {},
   "outputs": [],
   "source": [
    "from splink.duckdb.duckdb_linker import DuckDBLinker\n",
    "from splink.duckdb import duckdb_comparison_library as cl\n",
    "settings = {\n",
    "    \"link_type\": \"link_only\",\n",
    "    \"blocking_rules_to_generate_predictions\": [\n",
    "        \"l.Postcode = r.Postcode\",\n",
    "    ],\n",
    "    \"comparisons\": [\n",
    "        cl.jaro_winkler_at_thresholds(\"CompanyName\",distance_threshold_or_thresholds=[0.9]),\n",
    "    ],    \n",
    "    \"retain_intermediate_calculation_columns\" : True,\n",
    "    \"retain_matching_columns\" : True\n",
    "}"
   ]
  },
  {
   "cell_type": "code",
   "execution_count": 21,
   "id": "8faa6a4b",
   "metadata": {},
   "outputs": [
    {
     "name": "stderr",
     "output_type": "stream",
     "text": [
      "----- Estimating u probabilities using random sampling -----\n",
      "u probability not trained for CompanyName - Exact match (comparison vector value: 2). This usually means the comparison level was never observed in the training data.\n",
      "\n",
      "Estimated u probabilities using random sampling\n",
      "\n",
      "Your model is not yet fully trained. Missing estimates for:\n",
      "    - CompanyName (some u values are not trained, no m values are trained).\n"
     ]
    }
   ],
   "source": [
    "# To fix: typically doesn't calculate u value as doesn't find any matches\n",
    "\n",
    "linker = DuckDBLinker([mdf, cdf], settings, input_table_aliases=[\"mdf\", \"cdf\"])\n",
    "linker.estimate_u_using_random_sampling(target_rows=1e6)"
   ]
  },
  {
   "cell_type": "code",
   "execution_count": 22,
   "id": "bd58598c",
   "metadata": {},
   "outputs": [
    {
     "name": "stderr",
     "output_type": "stream",
     "text": [
      "\n",
      "----- Starting EM training session -----\n",
      "\n",
      "Estimating the m probabilities of the model by blocking on:\n",
      "l.Postcode = r.Postcode\n",
      "\n",
      "Parameter estimates will be made for the following comparison(s):\n",
      "    - CompanyName\n",
      "\n",
      "Parameter estimates cannot be made for the following comparison(s) since they are used in the blocking rules: \n",
      "\n",
      "Iteration 1: Largest change in params was -0.527 in the m_probability of CompanyName, level `Exact match`\n",
      "Iteration 2: Largest change in params was 0.379 in the m_probability of CompanyName, level `jaro_winkler_similarity >= 0.9`\n",
      "Iteration 3: Largest change in params was 0.045 in the m_probability of CompanyName, level `jaro_winkler_similarity >= 0.9`\n",
      "Iteration 4: Largest change in params was -0.013 in the m_probability of CompanyName, level `Exact match`\n",
      "Iteration 5: Largest change in params was -0.00466 in the m_probability of CompanyName, level `Exact match`\n",
      "Iteration 6: Largest change in params was -0.00168 in the m_probability of CompanyName, level `Exact match`\n",
      "Iteration 7: Largest change in params was -0.000603 in the m_probability of CompanyName, level `Exact match`\n",
      "Iteration 8: Largest change in params was 0.000218 in the m_probability of CompanyName, level `jaro_winkler_similarity >= 0.9`\n",
      "Iteration 9: Largest change in params was 8.1e-05 in the m_probability of CompanyName, level `jaro_winkler_similarity >= 0.9`\n",
      "\n",
      "EM converged after 9 iterations\n",
      "\n",
      "Your model is not yet fully trained. Missing estimates for:\n",
      "    - CompanyName (some u values are not trained).\n"
     ]
    },
    {
     "data": {
      "text/plain": [
       "<EMTrainingSession, blocking on l.Postcode = r.Postcode, deactivating comparisons >"
      ]
     },
     "execution_count": 22,
     "metadata": {},
     "output_type": "execute_result"
    }
   ],
   "source": [
    "linker.estimate_parameters_using_expectation_maximisation(\"l.Postcode = r.Postcode\")"
   ]
  },
  {
   "cell_type": "code",
   "execution_count": 23,
   "id": "6be8620b",
   "metadata": {},
   "outputs": [
    {
     "name": "stderr",
     "output_type": "stream",
     "text": [
      "\n",
      " -- WARNING --\n",
      "You have called predict(), but there are some parameter estimates which have neither been estimated or specified in your settings dictionary.  To produce predictions the following untrained trained parameters will use default values.\n",
      "Comparison: 'CompanyName':\n",
      "    u values not fully trained\n"
     ]
    }
   ],
   "source": [
    "results = linker.predict()"
   ]
  },
  {
   "cell_type": "code",
   "execution_count": 24,
   "id": "ad90ac52",
   "metadata": {},
   "outputs": [
    {
     "data": {
      "text/html": [
       "\n",
       "<div id=\"altair-viz-fed5e88936fa417099146f1499b15960\"></div>\n",
       "<script type=\"text/javascript\">\n",
       "  var VEGA_DEBUG = (typeof VEGA_DEBUG == \"undefined\") ? {} : VEGA_DEBUG;\n",
       "  (function(spec, embedOpt){\n",
       "    let outputDiv = document.currentScript.previousElementSibling;\n",
       "    if (outputDiv.id !== \"altair-viz-fed5e88936fa417099146f1499b15960\") {\n",
       "      outputDiv = document.getElementById(\"altair-viz-fed5e88936fa417099146f1499b15960\");\n",
       "    }\n",
       "    const paths = {\n",
       "      \"vega\": \"https://cdn.jsdelivr.net/npm//vega@5?noext\",\n",
       "      \"vega-lib\": \"https://cdn.jsdelivr.net/npm//vega-lib?noext\",\n",
       "      \"vega-lite\": \"https://cdn.jsdelivr.net/npm//vega-lite@4.17.0?noext\",\n",
       "      \"vega-embed\": \"https://cdn.jsdelivr.net/npm//vega-embed@6?noext\",\n",
       "    };\n",
       "\n",
       "    function maybeLoadScript(lib, version) {\n",
       "      var key = `${lib.replace(\"-\", \"\")}_version`;\n",
       "      return (VEGA_DEBUG[key] == version) ?\n",
       "        Promise.resolve(paths[lib]) :\n",
       "        new Promise(function(resolve, reject) {\n",
       "          var s = document.createElement('script');\n",
       "          document.getElementsByTagName(\"head\")[0].appendChild(s);\n",
       "          s.async = true;\n",
       "          s.onload = () => {\n",
       "            VEGA_DEBUG[key] = version;\n",
       "            return resolve(paths[lib]);\n",
       "          };\n",
       "          s.onerror = () => reject(`Error loading script: ${paths[lib]}`);\n",
       "          s.src = paths[lib];\n",
       "        });\n",
       "    }\n",
       "\n",
       "    function showError(err) {\n",
       "      outputDiv.innerHTML = `<div class=\"error\" style=\"color:red;\">${err}</div>`;\n",
       "      throw err;\n",
       "    }\n",
       "\n",
       "    function displayChart(vegaEmbed) {\n",
       "      vegaEmbed(outputDiv, spec, embedOpt)\n",
       "        .catch(err => showError(`Javascript Error: ${err.message}<br>This usually means there's a typo in your chart specification. See the javascript console for the full traceback.`));\n",
       "    }\n",
       "\n",
       "    if(typeof define === \"function\" && define.amd) {\n",
       "      requirejs.config({paths});\n",
       "      require([\"vega-embed\"], displayChart, err => showError(`Error loading script: ${err.message}`));\n",
       "    } else {\n",
       "      maybeLoadScript(\"vega\", \"5\")\n",
       "        .then(() => maybeLoadScript(\"vega-lite\", \"4.17.0\"))\n",
       "        .then(() => maybeLoadScript(\"vega-embed\", \"6\"))\n",
       "        .catch(showError)\n",
       "        .then(() => displayChart(vegaEmbed));\n",
       "    }\n",
       "  })({\"$schema\": \"https://vega.github.io/schema/vega-lite/v5.2.0.json\", \"height\": 450, \"resolve\": {\"axis\": {\"y\": \"independent\"}}, \"width\": {\"step\": 75}, \"data\": {\"values\": [{\"column_name\": \"Prior\", \"label_for_charts\": \"Starting match weight (prior)\", \"sql_condition\": null, \"log2_bayes_factor\": -13.287568102831404, \"bayes_factor\": 0.00010001000100010001, \"comparison_vector_value\": null, \"m_probability\": null, \"u_probability\": null, \"bayes_factor_description\": null, \"value_l\": \"\", \"value_r\": \"\", \"term_frequency_adjustment\": null, \"bar_sort_order\": 0, \"record_number\": 0}, {\"column_name\": \"CompanyName\", \"label_for_charts\": \"Exact match\", \"sql_condition\": \"\\\"CompanyName_l\\\" = \\\"CompanyName_r\\\"\", \"log2_bayes_factor\": -4.41577553045072, \"bayes_factor\": 0.04685102655940864, \"comparison_vector_value\": 2, \"m_probability\": 4.3465307843201375e-05, \"u_probability\": 0.000927734375, \"bayes_factor_description\": \"If comparison level is `exact match` then comparison is  21.34 times less likely to be a match\", \"value_l\": \"AIR RESOURCES\", \"value_r\": \"AIR RESOURCES\", \"term_frequency_adjustment\": false, \"bar_sort_order\": 1, \"record_number\": 0}, {\"column_name\": \"Final score\", \"label_for_charts\": \"Final score\", \"sql_condition\": null, \"log2_bayes_factor\": -17.703343633282124, \"bayes_factor\": 4.6855712130621715e-06, \"comparison_vector_value\": null, \"m_probability\": null, \"u_probability\": null, \"bayes_factor_description\": null, \"value_l\": \"\", \"value_r\": \"\", \"term_frequency_adjustment\": null, \"bar_sort_order\": 2, \"record_number\": 0}]}, \"config\": {\"view\": {\"continuousWidth\": 400, \"continuousHeight\": 300}}, \"params\": [{\"name\": \"record_number\", \"value\": 0, \"bind\": {\"input\": \"range\", \"min\": 0, \"max\": 0, \"step\": 1}, \"description\": \"Filter by the interation number\"}], \"title\": {\"text\": \"Match weights waterfall chart\", \"subtitle\": \"How each comparison contributes to the final match score\"}, \"transform\": [{\"filter\": \"(datum.record_number == record_number)\"}, {\"window\": [{\"op\": \"sum\", \"field\": \"log2_bayes_factor\", \"as\": \"sum\"}, {\"op\": \"lead\", \"field\": \"column_name\", \"as\": \"lead\"}], \"frame\": [null, 0]}, {\"calculate\": \"datum.column_name === \\\"Final score\\\" ? datum.sum - datum.log2_bayes_factor : datum.sum\", \"as\": \"sum\"}, {\"calculate\": \"datum.lead === null ? datum.column_name : datum.lead\", \"as\": \"lead\"}, {\"calculate\": \"datum.column_name === \\\"Final score\\\" || datum.column_name === \\\"Prior match weight\\\" ? 0 : datum.sum - datum.log2_bayes_factor\", \"as\": \"previous_sum\"}, {\"calculate\": \"datum.sum > datum.previous_sum ? datum.column_name : \\\"\\\"\", \"as\": \"top_label\"}, {\"calculate\": \"datum.sum < datum.previous_sum ? datum.column_name : \\\"\\\"\", \"as\": \"bottom_label\"}, {\"calculate\": \"datum.sum > datum.previous_sum ? datum.sum : datum.previous_sum\", \"as\": \"sum_top\"}, {\"calculate\": \"datum.sum < datum.previous_sum ? datum.sum : datum.previous_sum\", \"as\": \"sum_bottom\"}, {\"calculate\": \"(datum.sum + datum.previous_sum) / 2\", \"as\": \"center\"}, {\"calculate\": \"(datum.log2_bayes_factor > 0 ? \\\"+\\\" : \\\"\\\") + datum.log2_bayes_factor\", \"as\": \"text_log2_bayes_factor\"}, {\"calculate\": \"datum.sum < datum.previous_sum ? 4 : -4\", \"as\": \"dy\"}, {\"calculate\": \"datum.sum < datum.previous_sum ? \\\"top\\\" : \\\"bottom\\\"\", \"as\": \"baseline\"}, {\"calculate\": \"1. / (1 + pow(2, -1.*datum.sum))\", \"as\": \"prob\"}, {\"calculate\": \"0*datum.sum\", \"as\": \"zero\"}], \"layer\": [{\"layer\": [{\"mark\": \"rule\", \"encoding\": {\"y\": {\"field\": \"zero\", \"type\": \"quantitative\"}, \"size\": {\"value\": 0.5}, \"color\": {\"value\": \"black\"}}}, {\"mark\": {\"type\": \"bar\", \"width\": 60}, \"encoding\": {\"color\": {\"condition\": {\"value\": \"red\", \"test\": \"(datum.log2_bayes_factor < 0)\"}, \"value\": \"green\"}, \"opacity\": {\"condition\": {\"value\": 1, \"test\": \"datum.column_name == 'Prior match weight' || datum.column_name == 'Final score'\"}, \"value\": 0.5}, \"tooltip\": [{\"type\": \"nominal\", \"field\": \"column_name\", \"title\": \"Comparison column\"}, {\"type\": \"nominal\", \"field\": \"value_l\", \"title\": \"Value (L)\"}, {\"type\": \"nominal\", \"field\": \"value_r\", \"title\": \"Value (R)\"}, {\"type\": \"ordinal\", \"field\": \"label_for_charts\", \"title\": \"Label\"}, {\"type\": \"nominal\", \"field\": \"sql_condition\", \"title\": \"SQL condition\"}, {\"type\": \"nominal\", \"field\": \"comparison_vector_value\", \"title\": \"Comparison vector value\"}, {\"type\": \"quantitative\", \"field\": \"bayes_factor\", \"title\": \"Bayes factor = m/u\", \"format\": \",.4f\"}, {\"type\": \"quantitative\", \"field\": \"log2_bayes_factor\", \"title\": \"Match weight = log2(m/u)\", \"format\": \",.4f\"}, {\"type\": \"quantitative\", \"field\": \"prob\", \"format\": \".4f\", \"title\": \"Adjusted match score\"}, {\"type\": \"nominal\", \"field\": \"bayes_factor_description\", \"title\": \"Match weight description\"}], \"x\": {\"type\": \"nominal\", \"axis\": {\"labelExpr\": \"datum.value == 'Prior' || datum.value == 'Final score' ? '' : datum.value\", \"labelAngle\": -20, \"labelAlign\": \"center\", \"labelPadding\": 10, \"title\": \"Column\", \"grid\": true, \"tickBand\": \"extent\"}, \"field\": \"column_name\", \"sort\": {\"field\": \"bar_sort_order\", \"order\": \"ascending\"}}, \"y\": {\"type\": \"quantitative\", \"axis\": {\"grid\": false, \"orient\": \"left\", \"title\": \"log2(Bayes factor)\"}, \"field\": \"previous_sum\"}, \"y2\": {\"field\": \"sum\"}}}, {\"mark\": {\"type\": \"text\", \"fontWeight\": \"bold\"}, \"encoding\": {\"color\": {\"value\": \"white\"}, \"text\": {\"condition\": {\"type\": \"nominal\", \"field\": \"log2_bayes_factor\", \"format\": \".2f\", \"test\": \"abs(datum.log2_bayes_factor) > 1\"}, \"value\": \"\"}, \"x\": {\"type\": \"nominal\", \"axis\": {\"labelAngle\": 0, \"title\": \"Column\"}, \"field\": \"column_name\", \"sort\": {\"field\": \"bar_sort_order\", \"order\": \"ascending\"}}, \"y\": {\"type\": \"quantitative\", \"axis\": {\"orient\": \"left\"}, \"field\": \"center\"}}}, {\"mark\": {\"type\": \"text\", \"baseline\": \"bottom\", \"dy\": -25, \"fontWeight\": \"bold\"}, \"encoding\": {\"color\": {\"value\": \"black\"}, \"text\": {\"type\": \"nominal\", \"field\": \"column_name\"}, \"x\": {\"type\": \"nominal\", \"axis\": {\"labelAngle\": 0, \"title\": \"Column\"}, \"field\": \"column_name\", \"sort\": {\"field\": \"bar_sort_order\", \"order\": \"ascending\"}}, \"y\": {\"type\": \"quantitative\", \"field\": \"sum_top\"}}}, {\"mark\": {\"type\": \"text\", \"baseline\": \"bottom\", \"fontSize\": 8, \"dy\": -13}, \"encoding\": {\"color\": {\"value\": \"grey\"}, \"text\": {\"type\": \"nominal\", \"field\": \"value_l\"}, \"x\": {\"type\": \"nominal\", \"axis\": {\"labelAngle\": 0, \"title\": \"Column\"}, \"field\": \"column_name\", \"sort\": {\"field\": \"bar_sort_order\", \"order\": \"ascending\"}}, \"y\": {\"type\": \"quantitative\", \"field\": \"sum_top\"}}}, {\"mark\": {\"type\": \"text\", \"baseline\": \"bottom\", \"fontSize\": 8, \"dy\": -5}, \"encoding\": {\"color\": {\"value\": \"grey\"}, \"text\": {\"type\": \"nominal\", \"field\": \"value_r\"}, \"x\": {\"type\": \"nominal\", \"axis\": {\"labelAngle\": 0, \"title\": \"Column\"}, \"field\": \"column_name\", \"sort\": {\"field\": \"bar_sort_order\", \"order\": \"ascending\"}}, \"y\": {\"type\": \"quantitative\", \"field\": \"sum_top\"}}}]}, {\"mark\": {\"type\": \"rule\", \"color\": \"black\", \"strokeWidth\": 2, \"x2Offset\": 30, \"xOffset\": -30}, \"encoding\": {\"x\": {\"type\": \"nominal\", \"axis\": {\"labelAngle\": 0, \"title\": \"Column\"}, \"field\": \"column_name\", \"sort\": {\"field\": \"bar_sort_order\", \"order\": \"ascending\"}}, \"x2\": {\"field\": \"lead\"}, \"y\": {\"type\": \"quantitative\", \"axis\": {\"labelExpr\": \"format(1 / (1 + pow(2, -1*datum.value)), '.2r')\", \"orient\": \"right\", \"title\": \"Probability\"}, \"field\": \"sum\", \"scale\": {\"zero\": false}}}}]}, {\"mode\": \"vega-lite\"});\n",
       "</script>"
      ],
      "text/plain": [
       "<splink.charts.VegaliteNoValidate at 0x28bea8bed88>"
      ]
     },
     "execution_count": 24,
     "metadata": {},
     "output_type": "execute_result"
    }
   ],
   "source": [
    "resultsdf = results.as_pandas_dataframe()\n",
    "bespoke = resultsdf[resultsdf['CompanyName_l']=='AIR RESOURCES']\n",
    "linker.waterfall_chart(bespoke.to_dict(orient='records'), filter_nulls=False)"
   ]
  },
  {
   "cell_type": "code",
   "execution_count": null,
   "id": "7dfe63f8",
   "metadata": {},
   "outputs": [],
   "source": [
    "df_splink = linker.predict(threshold_match_probability = 0.001).as_pandas_dataframe()\n",
    "len(df_splink)"
   ]
  }
 ],
 "metadata": {
  "kernelspec": {
   "display_name": "Python 3 (ipykernel)",
   "language": "python",
   "name": "python3"
  },
  "language_info": {
   "codemirror_mode": {
    "name": "ipython",
    "version": 3
   },
   "file_extension": ".py",
   "mimetype": "text/x-python",
   "name": "python",
   "nbconvert_exporter": "python",
   "pygments_lexer": "ipython3",
   "version": "3.7.4"
  }
 },
 "nbformat": 4,
 "nbformat_minor": 5
}
