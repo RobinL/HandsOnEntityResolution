{
 "cells": [
  {
   "cell_type": "code",
   "execution_count": 1,
   "id": "71493007",
   "metadata": {},
   "outputs": [],
   "source": [
    "import pandas as pd\n",
    "import probablepeople as pp"
   ]
  },
  {
   "cell_type": "code",
   "execution_count": 2,
   "id": "f21e044f",
   "metadata": {},
   "outputs": [],
   "source": [
    "def clean_company(raw_name):\n",
    "    clean_name = ''\n",
    "    short_name = ''\n",
    "    for parsed_value, parsed_type in pp.parse(raw_name):\n",
    "        if parsed_type == 'CorporationName':\n",
    "            clean_name = clean_name + parsed_value + ' '\n",
    "        if parsed_type == 'ShortForm':\n",
    "            short_name = parsed_value\n",
    "    if clean_name == '':\n",
    "        return short_name\n",
    "    else:\n",
    "        return clean_name[:-1]"
   ]
  },
  {
   "cell_type": "code",
   "execution_count": 3,
   "id": "d12b860b",
   "metadata": {},
   "outputs": [],
   "source": [
    "def extract_postcode(address):\n",
    "    return ' '.join(address.split()[-2:])"
   ]
  },
  {
   "cell_type": "code",
   "execution_count": 4,
   "id": "e32d8bf5",
   "metadata": {},
   "outputs": [],
   "source": [
    "mdf = pd.read_csv('R_P_Published_List_23_09_22_Amended.csv')  \n",
    "mdf['COMPANY_CLEAN'] = mdf.apply(lambda row: clean_company(row['COMPANY']), axis=1)\n",
    "mdf = mdf[mdf['COMPANY_CLEAN']!='']"
   ]
  },
  {
   "cell_type": "code",
   "execution_count": 5,
   "id": "9e3442f8",
   "metadata": {},
   "outputs": [],
   "source": [
    "mdf['POSTCODE'] = mdf.apply(lambda row: extract_postcode(row['ADDRESS & CONTACT DETAILS']), axis=1)\n",
    "mdf['LOCATION'] = mdf['LOCATION'].str.upper()\n",
    "mdf['COMPANY_CLEAN'] = mdf['COMPANY_CLEAN'].str.upper()"
   ]
  },
  {
   "cell_type": "code",
   "execution_count": 6,
   "id": "a726304a",
   "metadata": {},
   "outputs": [
    {
     "name": "stderr",
     "output_type": "stream",
     "text": [
      "C:\\Users\\mshea\\opencv\\lib\\site-packages\\IPython\\core\\interactiveshell.py:3553: DtypeWarning: Columns (41,42,43,44,45,46,47,48,49,50,51,52) have mixed types.Specify dtype option on import or set low_memory=False.\n",
      "  exec(code_obj, self.user_global_ns, self.user_ns)\n"
     ]
    }
   ],
   "source": [
    "cdf = pd.read_csv('BasicCompanyData-2022-10-01-part1_7.csv')\n",
    "cdf = cdf.rename(columns={\"RegAddress.PostCode\": \"POSTCODE\"})\n",
    "cdf['COMPANY_CLEAN']=cdf['CompanyName']"
   ]
  },
  {
   "cell_type": "code",
   "execution_count": 7,
   "id": "4d3d4b2f",
   "metadata": {},
   "outputs": [],
   "source": [
    "import recordlinkage"
   ]
  },
  {
   "cell_type": "code",
   "execution_count": 8,
   "id": "6f475bba",
   "metadata": {},
   "outputs": [
    {
     "data": {
      "text/plain": [
       "23613"
      ]
     },
     "execution_count": 8,
     "metadata": {},
     "output_type": "execute_result"
    }
   ],
   "source": [
    "indexer = recordlinkage.Index()\n",
    "indexer.block(\"POSTCODE\")\n",
    "candidate_links = indexer.index(cdf, mdf)\n",
    "len(candidate_links)"
   ]
  },
  {
   "cell_type": "code",
   "execution_count": 9,
   "id": "0d17727e",
   "metadata": {},
   "outputs": [],
   "source": [
    "compare_cl = recordlinkage.Compare()\n",
    "compare_cl.string(\"COMPANY_CLEAN\", \"COMPANY_CLEAN\", method='jarowinkler',threshold=0.9)\n",
    "compare_cl.string(\"RegAddress.PostTown\", \"LOCATION\", method='jarowinkler',threshold=0.9)\n",
    "features = compare_cl.compute(candidate_links, cdf, mdf)"
   ]
  },
  {
   "cell_type": "code",
   "execution_count": 10,
   "id": "36207b90",
   "metadata": {},
   "outputs": [
    {
     "data": {
      "text/html": [
       "<div>\n",
       "<style scoped>\n",
       "    .dataframe tbody tr th:only-of-type {\n",
       "        vertical-align: middle;\n",
       "    }\n",
       "\n",
       "    .dataframe tbody tr th {\n",
       "        vertical-align: top;\n",
       "    }\n",
       "\n",
       "    .dataframe thead th {\n",
       "        text-align: right;\n",
       "    }\n",
       "</style>\n",
       "<table border=\"1\" class=\"dataframe\">\n",
       "  <thead>\n",
       "    <tr style=\"text-align: right;\">\n",
       "      <th></th>\n",
       "      <th></th>\n",
       "      <th>0</th>\n",
       "      <th>1</th>\n",
       "    </tr>\n",
       "  </thead>\n",
       "  <tbody>\n",
       "    <tr>\n",
       "      <th>215972</th>\n",
       "      <th>4</th>\n",
       "      <td>1.0</td>\n",
       "      <td>1.0</td>\n",
       "    </tr>\n",
       "    <tr>\n",
       "      <th>575408</th>\n",
       "      <th>7</th>\n",
       "      <td>1.0</td>\n",
       "      <td>1.0</td>\n",
       "    </tr>\n",
       "    <tr>\n",
       "      <th>181344</th>\n",
       "      <th>2</th>\n",
       "      <td>1.0</td>\n",
       "      <td>1.0</td>\n",
       "    </tr>\n",
       "    <tr>\n",
       "      <th>181345</th>\n",
       "      <th>2</th>\n",
       "      <td>1.0</td>\n",
       "      <td>1.0</td>\n",
       "    </tr>\n",
       "    <tr>\n",
       "      <th>181346</th>\n",
       "      <th>2</th>\n",
       "      <td>1.0</td>\n",
       "      <td>1.0</td>\n",
       "    </tr>\n",
       "    <tr>\n",
       "      <th>183753</th>\n",
       "      <th>3</th>\n",
       "      <td>1.0</td>\n",
       "      <td>1.0</td>\n",
       "    </tr>\n",
       "    <tr>\n",
       "      <th>183754</th>\n",
       "      <th>3</th>\n",
       "      <td>1.0</td>\n",
       "      <td>1.0</td>\n",
       "    </tr>\n",
       "    <tr>\n",
       "      <th>183755</th>\n",
       "      <th>3</th>\n",
       "      <td>1.0</td>\n",
       "      <td>1.0</td>\n",
       "    </tr>\n",
       "    <tr>\n",
       "      <th>596106</th>\n",
       "      <th>8</th>\n",
       "      <td>1.0</td>\n",
       "      <td>1.0</td>\n",
       "    </tr>\n",
       "    <tr>\n",
       "      <th>257746</th>\n",
       "      <th>5</th>\n",
       "      <td>1.0</td>\n",
       "      <td>1.0</td>\n",
       "    </tr>\n",
       "  </tbody>\n",
       "</table>\n",
       "</div>"
      ],
      "text/plain": [
       "            0    1\n",
       "215972 4  1.0  1.0\n",
       "575408 7  1.0  1.0\n",
       "181344 2  1.0  1.0\n",
       "181345 2  1.0  1.0\n",
       "181346 2  1.0  1.0\n",
       "183753 3  1.0  1.0\n",
       "183754 3  1.0  1.0\n",
       "183755 3  1.0  1.0\n",
       "596106 8  1.0  1.0\n",
       "257746 5  1.0  1.0"
      ]
     },
     "execution_count": 10,
     "metadata": {},
     "output_type": "execute_result"
    }
   ],
   "source": [
    "features[(features[1]==1) & (features[0]==1)]"
   ]
  },
  {
   "cell_type": "code",
   "execution_count": null,
   "id": "6d04eacc",
   "metadata": {},
   "outputs": [],
   "source": []
  },
  {
   "cell_type": "code",
   "execution_count": null,
   "id": "c31e769f",
   "metadata": {},
   "outputs": [],
   "source": []
  }
 ],
 "metadata": {
  "kernelspec": {
   "display_name": "Python 3 (ipykernel)",
   "language": "python",
   "name": "python3"
  },
  "language_info": {
   "codemirror_mode": {
    "name": "ipython",
    "version": 3
   },
   "file_extension": ".py",
   "mimetype": "text/x-python",
   "name": "python",
   "nbconvert_exporter": "python",
   "pygments_lexer": "ipython3",
   "version": "3.7.4"
  }
 },
 "nbformat": 4,
 "nbformat_minor": 5
}
